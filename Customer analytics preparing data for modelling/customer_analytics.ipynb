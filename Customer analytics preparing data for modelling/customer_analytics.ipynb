{
  "nbformat": 4,
  "nbformat_minor": 0,
  "metadata": {
    "colab": {
      "provenance": []
    },
    "kernelspec": {
      "name": "python3",
      "display_name": "Python 3"
    },
    "language_info": {
      "name": "python"
    }
  },
  "cells": [
    {
      "cell_type": "markdown",
      "source": [
        "A common problem when creating models to generate business value from data is that the datasets can be so large that it can take days for the model to generate predictions. Ensuring that your dataset is stored as efficiently as possible is crucial for allowing these models to run on a more reasonable timescale without having to reduce the size of the dataset.\n",
        "\n"
      ],
      "metadata": {
        "id": "vLik3c2H4cX9"
      }
    },
    {
      "cell_type": "code",
      "execution_count": 1,
      "metadata": {
        "id": "tAkzDMq43ppR"
      },
      "outputs": [],
      "source": [
        "import pandas as pd\n",
        "import numpy as np"
      ]
    },
    {
      "cell_type": "code",
      "source": [
        "#loading the raw dataset\n",
        "url = 'https://raw.githubusercontent.com/dennermiguez/Data-Analysis-Projects/main/Customer%20analytics%20preparing%20data%20for%20modelling/customer_train.csv'\n",
        "ds_jobs = pd.read_csv(url)"
      ],
      "metadata": {
        "id": "0MRrKaFD4eIU"
      },
      "execution_count": 4,
      "outputs": []
    },
    {
      "cell_type": "code",
      "source": [
        "# Copy the DataFrame for cleaning\n",
        "ds_jobs_clean = ds_jobs.copy()"
      ],
      "metadata": {
        "id": "eadtpf7o9Ld0"
      },
      "execution_count": 5,
      "outputs": []
    },
    {
      "cell_type": "code",
      "source": [
        "# Create a dictionary of columns containing ordered categorical data\n",
        "ordered_cats = {\n",
        "    'relevant_experience': ['No relevant experience', 'Has relevant experience'],\n",
        "    'enrolled_university': ['no_enrollment', 'Part time course', 'Full time course'],\n",
        "    'education_level': ['Primary School', 'High School', 'Graduate', 'Masters', 'Phd'],\n",
        "    'experience': ['<1'] + list(map(str, range(1, 21))) + ['>20'],\n",
        "    'company_size': ['<10', '10-49', '50-99', '100-499', '500-999', '1000-4999', '5000-9999', '10000+'],\n",
        "    'last_new_job': ['never', '1', '2', '3', '4', '>4']\n",
        "}"
      ],
      "metadata": {
        "id": "1O_51s-j9RMC"
      },
      "execution_count": 6,
      "outputs": []
    },
    {
      "cell_type": "code",
      "source": [
        "#Loop through DataFrame columns to efficiently change data types\n",
        "for col in ds_jobs_clean:\n",
        "\n",
        "    # Convert integer columns to int32\n",
        "    if ds_jobs_clean[col].dtype == 'int':\n",
        "        ds_jobs_clean[col] = ds_jobs_clean[col].astype('int32')\n",
        "\n",
        "    # Convert float columns to float16\n",
        "    elif ds_jobs_clean[col].dtype == 'float':\n",
        "        ds_jobs_clean[col] = ds_jobs_clean[col].astype('float16')\n",
        "\n",
        "    # Convert columns containing ordered categorical data to ordered categories using dict\n",
        "    elif col in ordered_cats.keys():\n",
        "        category = pd.CategoricalDtype(ordered_cats[col], ordered=True)\n",
        "        ds_jobs_clean[col] = ds_jobs_clean[col].astype(category)\n",
        "\n",
        "    # Convert remaining columns to standard categories\n",
        "    else:\n",
        "        ds_jobs_clean[col] = ds_jobs_clean[col].astype('category')"
      ],
      "metadata": {
        "id": "LcRtQ0SW9V_r"
      },
      "execution_count": 8,
      "outputs": []
    },
    {
      "cell_type": "code",
      "source": [
        "# Filter students with 10 or more years experience at companies with at least 1000 employees\n",
        "ds_jobs_clean = ds_jobs_clean[(ds_jobs_clean['experience'] >= '10') & (ds_jobs_clean['company_size'] >= '1000-4999')]"
      ],
      "metadata": {
        "id": "xyRbl8Eg9dWU"
      },
      "execution_count": 9,
      "outputs": []
    }
  ]
}