{
  "nbformat": 4,
  "nbformat_minor": 0,
  "metadata": {
    "colab": {
      "provenance": []
    },
    "kernelspec": {
      "name": "python3",
      "display_name": "Python 3"
    },
    "language_info": {
      "name": "python"
    }
  },
  "cells": [
    {
      "cell_type": "code",
      "execution_count": 1,
      "metadata": {
        "id": "nJWWfwQ8I3OO"
      },
      "outputs": [],
      "source": [
        "import pandas as pd\n",
        "import numpy as np"
      ]
    },
    {
      "cell_type": "code",
      "source": [
        "#loading the dataset\n",
        "url = 'https://raw.githubusercontent.com/dennermiguez/Data-Analysis-Projects/main/Analyzing%20River%20Thames%20Water%20Levels/10-11_London_Bridge.txt'\n",
        "lb = pd.read_csv(url)"
      ],
      "metadata": {
        "id": "ZeuzyStJJB3K"
      },
      "execution_count": 2,
      "outputs": []
    },
    {
      "cell_type": "code",
      "source": [
        "#defining an IQR func\n",
        "def IQR(column):\n",
        "    q25, q75 = column.quantile([0.25, 0.75])\n",
        "    return q75-q25"
      ],
      "metadata": {
        "id": "8-vwMhNuJOuC"
      },
      "execution_count": 3,
      "outputs": []
    },
    {
      "cell_type": "code",
      "source": [
        "# Take only the first three columns\n",
        "df = lb.iloc[:, :3].copy()\n",
        "# Rename columns\n",
        "df.columns = ['datetime', 'water_level', 'is_high_tide']\n",
        "# Convert to datetime\n",
        "df['datetime'] = pd.to_datetime(df['datetime'])\n",
        "# Convert to float\n",
        "df['water_level'] = df.water_level.astype(float)\n"
      ],
      "metadata": {
        "id": "ZWhHk7XXJVNC"
      },
      "execution_count": 5,
      "outputs": []
    },
    {
      "cell_type": "code",
      "source": [
        "# Create extra month and year columns for easy access\n",
        "df['month'] = df['datetime'].dt.month\n",
        "df['year'] = df['datetime'].dt.year\n"
      ],
      "metadata": {
        "id": "9N_-drsmJqJ9"
      },
      "execution_count": 6,
      "outputs": []
    },
    {
      "cell_type": "code",
      "source": [
        "# Filter df for high and low tide\n",
        "tide_high = df[df['is_high_tide'] == 1]\n",
        "tide_low = df[df['is_high_tide'] == 0]"
      ],
      "metadata": {
        "id": "5VbxTapoJtdh"
      },
      "execution_count": 7,
      "outputs": []
    },
    {
      "cell_type": "code",
      "source": [
        "# Create summary statistics\n",
        "high_statistics = tide_high['water_level'].agg(['mean', 'median', IQR])\n",
        "low_statistics = tide_low['water_level'].agg(['mean', 'median', IQR])"
      ],
      "metadata": {
        "id": "cjtnkQcxJxUZ"
      },
      "execution_count": 8,
      "outputs": []
    },
    {
      "cell_type": "code",
      "source": [
        "# Calculate ratio of high tide days\n",
        "all_high_days = tide_high.groupby('year')['water_level'].count()\n",
        "very_high_days = tide_high[tide_high['water_level'] > tide_high['water_level'].quantile(0.90)].groupby('year')['water_level'].count()\n",
        "very_high_ratio = (very_high_days/all_high_days).reset_index()"
      ],
      "metadata": {
        "id": "3tqrRU58J4UK"
      },
      "execution_count": 9,
      "outputs": []
    },
    {
      "cell_type": "code",
      "source": [
        "# Calculate ratio of low tide days\n",
        "all_low_days = tide_low.groupby('year')['water_level'].count()\n",
        "very_low_days = tide_low[tide_low['water_level'] < tide_low['water_level'].quantile(0.10)].groupby('year')['water_level'].count()\n",
        "very_low_ratio = (very_low_days/all_low_days).reset_index()"
      ],
      "metadata": {
        "id": "Z4ejcQ_9J79y"
      },
      "execution_count": 10,
      "outputs": []
    },
    {
      "cell_type": "code",
      "source": [
        "solution = {'high_statistics': high_statistics, 'low_statistics': low_statistics, 'very_high_ratio': very_high_ratio, 'very_low_ratio':very_low_ratio}\n",
        "print(solution)"
      ],
      "metadata": {
        "id": "weYpQxjiJ-mm",
        "outputId": "e034ce13-3c14-425f-e413-dcc3e39c0dd4",
        "colab": {
          "base_uri": "https://localhost:8080/"
        }
      },
      "execution_count": 11,
      "outputs": [
        {
          "output_type": "stream",
          "name": "stdout",
          "text": [
            "{'high_statistics': mean      3.318373\n",
            "median    3.352600\n",
            "IQR       0.743600\n",
            "Name: water_level, dtype: float64, 'low_statistics': mean     -2.383737\n",
            "median   -2.412900\n",
            "IQR       0.538200\n",
            "Name: water_level, dtype: float64, 'very_high_ratio':     year  water_level\n",
            "0   1911     0.004098\n",
            "1   1912     0.032316\n",
            "2   1913     0.082212\n",
            "3   1914     0.055313\n",
            "4   1915     0.045045\n",
            "..   ...          ...\n",
            "80  1991     0.096317\n",
            "81  1992     0.103253\n",
            "82  1993     0.145923\n",
            "83  1994     0.150355\n",
            "84  1995     0.170213\n",
            "\n",
            "[85 rows x 2 columns], 'very_low_ratio':     year  water_level\n",
            "0   1911     0.060606\n",
            "1   1912     0.066667\n",
            "2   1913     0.022388\n",
            "3   1914     0.039017\n",
            "4   1915     0.033435\n",
            "..   ...          ...\n",
            "80  1991     0.150355\n",
            "81  1992     0.107496\n",
            "82  1993     0.112696\n",
            "83  1994     0.106383\n",
            "84  1995     0.107801\n",
            "\n",
            "[85 rows x 2 columns]}\n"
          ]
        }
      ]
    }
  ]
}