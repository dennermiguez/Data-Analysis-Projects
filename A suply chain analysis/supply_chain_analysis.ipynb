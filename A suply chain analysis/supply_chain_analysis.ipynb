{
  "nbformat": 4,
  "nbformat_minor": 0,
  "metadata": {
    "colab": {
      "provenance": []
    },
    "kernelspec": {
      "name": "python3",
      "display_name": "Python 3"
    },
    "language_info": {
      "name": "python"
    }
  },
  "cells": [
    {
      "cell_type": "markdown",
      "source": [
        "In this project, you'll conduct a supply chain analysis of three of these ingredients used in an avocado toast, utilizing the Open Food Facts database. This database contains extensive, openly-sourced information on various foods, including their origins. Through this analysis, you will gain an in-depth understanding of the complex supply chain involved in producing a single dish."
      ],
      "metadata": {
        "id": "MCsUVZnc7LRv"
      }
    },
    {
      "cell_type": "code",
      "source": [
        "import pandas as pd"
      ],
      "metadata": {
        "id": "h3_2a0Et-oTL"
      },
      "execution_count": 2,
      "outputs": []
    },
    {
      "cell_type": "code",
      "execution_count": 1,
      "metadata": {
        "id": "-ETWCG6s7Ctq"
      },
      "outputs": [],
      "source": [
        "#Create a general function to read and filter data for a particular ingredient,\n",
        "###    and return the top origin country for that food item\n",
        "def read_and_filter_data(filename, relevant_categories):\n",
        "  df = pd.read_csv(filename, sep='\\t')\n",
        "\n",
        "  # Subset large DataFrame to include only relevant columns\n",
        "  subset_columns = [ 'code', 'lc', 'product_name_en', 'quantity', 'serving_size', 'packaging_tags', 'brands', 'brands_tags', 'categories_tags', 'labels_tags', 'countries', 'countries_tags', 'origins','origins_tags']\n",
        "  df = df[subset_columns]\n",
        "\n",
        "  # Split tags into lists\n",
        "  df['categories_list'] = df['categories_tags'].str.split(',')\n",
        "\n",
        "  # Drop rows with null categories data\n",
        "  df = df.dropna(subset = 'categories_list')\n",
        "\n",
        "  # Filter data for relevant categories\n",
        "  df = df[df['categories_list'].apply(lambda x: any([i for i in x if i in relevant_categories]))]\n",
        "\n",
        "  # Filter data for the UK\n",
        "  df_uk = df[(df['countries']=='United Kingdom')]\n",
        "\n",
        "  # Find top origin country string with the highest count\n",
        "  top_origin_string = (df_uk['origins_tags'].value_counts().index[0])\n",
        "\n",
        "  # Clean up top origin country string\n",
        "  top_origin_country = top_origin_string.lstrip(\"en:\")\n",
        "  top_origin_country = top_origin_country.replace('-', ' ')\n",
        "\n",
        "  print(f'**{filename[:-4]} origins**','\\n', top_origin_country, '\\n')\n",
        "\n",
        "  print (\"Top origin country: \", top_origin_country)\n",
        "  print (\"\\n\")\n",
        "\n",
        "  # End of function - return top origin country for this ingredient\n",
        "  return top_origin_country"
      ]
    },
    {
      "cell_type": "code",
      "source": [
        "#avocado oil supply chain\n",
        "path_avocado = '/content/drive/MyDrive/dataset/avocado.csv'\n",
        "with open('/content/relevant_avocado_categories.txt','r') as file:\n",
        "  relevant_avocado = file.read().splitlines()\n",
        "  file.close()\n",
        "\n",
        "top_avocado = read_and_filter_data(path_avocado, relevant_avocado)"
      ],
      "metadata": {
        "colab": {
          "base_uri": "https://localhost:8080/"
        },
        "id": "eMBsk_Nk-tMF",
        "outputId": "85efab3c-cfa5-47a0-ce12-6200c2fe743d"
      },
      "execution_count": 3,
      "outputs": [
        {
          "output_type": "stream",
          "name": "stdout",
          "text": [
            "**/content/drive/MyDrive/dataset/avocado origins** \n",
            " peru \n",
            "\n",
            "Top origin country:  peru\n",
            "\n",
            "\n"
          ]
        }
      ]
    },
    {
      "cell_type": "code",
      "source": [
        "#olive oil supply chain\n",
        "path_olive = '/content/drive/MyDrive/dataset/olive_oil.csv'\n",
        "\n",
        "#loading the txt file\n",
        "with open('/content/relevant_olive_oil_categories.txt','r') as file:\n",
        "  relevant_olive = file.read().splitlines()\n",
        "  file.close()\n",
        "\n",
        "#top country for olive oil origin\n",
        "top_olive = read_and_filter_data(path_olive, relevant_olive)"
      ],
      "metadata": {
        "colab": {
          "base_uri": "https://localhost:8080/"
        },
        "id": "2SN0iz7N_lXL",
        "outputId": "db4c6240-b7f5-4676-cb2f-0848c91f2270"
      },
      "execution_count": 4,
      "outputs": [
        {
          "output_type": "stream",
          "name": "stderr",
          "text": [
            "<ipython-input-1-11d6b6a8e533>:4: DtypeWarning: Columns (0,1,2,4,5,6,7,8,10,13,15,16,17,18,20,21,22,23,24,25,26,27,29,30,31,32,33,34,35,36,37,38,39,42,43,44,45,46,48,49,50,57,67,70,71,72,73,74,75,76,79,80,81,82,83,86,87,88,89,90,91,92,95,96,97,98,99,100,101,102,103,104,105,106,107,108,109,110,115,121,125,129,133,137,141,145,149,153,157,159,161,165,167,169,177,179,181,183,185,187,189,191,193,195,197,199,201,203,205,211,213,215,217,219,221,223,225,227,229,231,233,235,237,239,241,243,245,247,249,251,253,255,257,259,261,263,265,267,269,271,273,274,275,276,277,278,279,280,281,282,283,284,285,286,288,289,290,291,292,293,294,305,311,312,313,315,316,319,320,321,322,324) have mixed types. Specify dtype option on import or set low_memory=False.\n",
            "  df = pd.read_csv(filename, sep='\\t')\n"
          ]
        },
        {
          "output_type": "stream",
          "name": "stdout",
          "text": [
            "**/content/drive/MyDrive/dataset/olive_oil origins** \n",
            " greece \n",
            "\n",
            "Top origin country:  greece\n",
            "\n",
            "\n"
          ]
        }
      ]
    },
    {
      "cell_type": "code",
      "source": [
        "#sourdough supply chain\n",
        "path_sour = '/content/drive/MyDrive/dataset/sourdough.csv'\n",
        "\n",
        "with open('/content/relevant_sourdough_categories.txt','r') as file:\n",
        "  relevant_sour = file.read().splitlines()\n",
        "  file.close()\n",
        "\n",
        "top_sour = read_and_filter_data(path_sour, relevant_sour)"
      ],
      "metadata": {
        "colab": {
          "base_uri": "https://localhost:8080/"
        },
        "id": "jDnpdtLaAc86",
        "outputId": "c77fb139-eb77-4322-9f29-94326217d6dd"
      },
      "execution_count": 5,
      "outputs": [
        {
          "output_type": "stream",
          "name": "stdout",
          "text": [
            "**/content/drive/MyDrive/dataset/sourdough origins** \n",
            " united kingdom \n",
            "\n",
            "Top origin country:  united kingdom\n",
            "\n",
            "\n"
          ]
        }
      ]
    }
  ]
}